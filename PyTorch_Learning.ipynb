{
  "nbformat": 4,
  "nbformat_minor": 0,
  "metadata": {
    "colab": {
      "name": "PyTorch Learning.ipynb",
      "provenance": [],
      "collapsed_sections": [
        "N1BIyIjIEV40",
        "EDS7INm00qP_"
      ],
      "mount_file_id": "16O2J9Lg5Ek5m6Z88IzaRZpC6kuAL_IXL",
      "authorship_tag": "ABX9TyNPzryuuJbZfkFxXriZGTQs",
      "include_colab_link": true
    },
    "kernelspec": {
      "name": "python3",
      "display_name": "Python 3"
    },
    "language_info": {
      "name": "python"
    }
  },
  "cells": [
    {
      "cell_type": "markdown",
      "metadata": {
        "id": "view-in-github",
        "colab_type": "text"
      },
      "source": [
        "<a href=\"https://colab.research.google.com/github/NiteeshSingh/SOC-Season-Of-Codes/blob/main/PyTorch_Learning.ipynb\" target=\"_parent\"><img src=\"https://colab.research.google.com/assets/colab-badge.svg\" alt=\"Open In Colab\"/></a>"
      ]
    },
    {
      "cell_type": "code",
      "execution_count": null,
      "metadata": {
        "id": "EPNqaQ_WELvi",
        "colab": {
          "base_uri": "https://localhost:8080/"
        },
        "outputId": "9cd6a6d1-dbd5-4232-b02e-2a12f78ea71d"
      },
      "outputs": [
        {
          "output_type": "stream",
          "name": "stdout",
          "text": [
            "Using cpu device\n"
          ]
        }
      ],
      "source": [
        "import torch\n",
        "import numpy as np\n",
        "import pandas as pd\n",
        "\n",
        "import matplotlib.pyplot as plt\n",
        "import seaborn as sns\n",
        "\n",
        "from IPython.display import display\n",
        "\n",
        "pd.set_option('max_columns', None)\n",
        "\n",
        "\n",
        "device = \"cuda\" if torch.cuda.is_available() else \"cpu\"\n",
        "print(f\"Using {device} device\")"
      ]
    },
    {
      "cell_type": "markdown",
      "source": [
        "##Tensors"
      ],
      "metadata": {
        "id": "N1BIyIjIEV40"
      }
    },
    {
      "cell_type": "code",
      "source": [
        "# Get cpu or gpu device \n",
        "device = \"cuda\" if torch.cuda.is_available() else \"cpu\""
      ],
      "metadata": {
        "id": "pVbB6V6AI8Ci"
      },
      "execution_count": null,
      "outputs": []
    },
    {
      "cell_type": "markdown",
      "source": [
        "###initialization"
      ],
      "metadata": {
        "id": "gMcAJHSCHBnB"
      }
    },
    {
      "cell_type": "code",
      "source": [
        "#initializing using data\n",
        "# specify specific datatype using --> ***dtype=torch.float32***\n",
        "# specify device type like cpu or gpu using --> ***device = \"cuda\" or \"cpu\"*** whichever you want and is available\n",
        "# specify if you want gradient  using  ----> ***requires_grad=True***\n",
        "tensor1 = torch.tensor([[2, 3], [1, 6]], dtype=torch.float32, device=device, requires_grad=True)\n",
        "display(\" -- from data -- \", tensor1)\n",
        "\n",
        "#from numpy array \n",
        "#note it doesn't take other keyword argument except numpy array\n",
        "#the tensor and numpy array shares the same memory changing the one changes the other \n",
        "tensor2 = torch.from_numpy(np.array([[7, 8], [9, 0]]))\n",
        "display(\"-- from numpy -- \", tensor2)\n",
        "\n",
        "#initiazing using\n",
        "#torch.rand\n",
        "#torch.ones\n",
        "#torch.zeros\n",
        "\n",
        "#these takes a shape argument defining the shape\n",
        "shape = (2, 3)\n",
        "\n",
        "tensor_rand = torch.rand(shape, generator=None, dtype=None, device=device, requires_grad=False)\n",
        "display(\"-- from torch.rand() -- \", tensor_rand)\n",
        "\n",
        "tensor_ones = torch.ones(shape, dtype=None, device=device, requires_grad=False)\n",
        "display(\"-- from torch.ones() -- \", tensor_ones)\n",
        "\n",
        "tensor_zeros = torch.zeros(shape, dtype=None, device=device, requires_grad=False)\n",
        "display(\"-- from torch.zeros() -- \", tensor_zeros)\n",
        "\n",
        "#initializing using \n",
        "#torch.rand_like()\n",
        "#torch.ones_like()\n",
        "#torch.zeros_like()\n",
        "\n",
        "#takes in an existing tensor and creates \n",
        "#new tensor of all other attributes [shape, dtype, layout, device] same as passed tensor\n",
        "tensor_rand_like = torch.rand_like(tensor1,)\n",
        "display(\"-- from torch.rand_like() -- \", tensor_rand_like)"
      ],
      "metadata": {
        "colab": {
          "base_uri": "https://localhost:8080/",
          "height": 333
        },
        "id": "Q6iN5l1kEVLT",
        "outputId": "f9b646ef-4239-4ab9-86e6-d1a8a6e8ba6f"
      },
      "execution_count": null,
      "outputs": [
        {
          "output_type": "display_data",
          "data": {
            "text/plain": [
              "' -- from data -- '"
            ],
            "application/vnd.google.colaboratory.intrinsic+json": {
              "type": "string"
            }
          },
          "metadata": {}
        },
        {
          "output_type": "display_data",
          "data": {
            "text/plain": [
              "tensor([[2., 3.],\n",
              "        [1., 6.]], requires_grad=True)"
            ]
          },
          "metadata": {}
        },
        {
          "output_type": "display_data",
          "data": {
            "text/plain": [
              "'-- from numpy -- '"
            ],
            "application/vnd.google.colaboratory.intrinsic+json": {
              "type": "string"
            }
          },
          "metadata": {}
        },
        {
          "output_type": "display_data",
          "data": {
            "text/plain": [
              "tensor([[7, 8],\n",
              "        [9, 0]])"
            ]
          },
          "metadata": {}
        },
        {
          "output_type": "display_data",
          "data": {
            "text/plain": [
              "'-- from torch.rand() -- '"
            ],
            "application/vnd.google.colaboratory.intrinsic+json": {
              "type": "string"
            }
          },
          "metadata": {}
        },
        {
          "output_type": "display_data",
          "data": {
            "text/plain": [
              "tensor([[0.0632, 0.9931, 0.9952],\n",
              "        [0.0410, 0.7532, 0.8232]])"
            ]
          },
          "metadata": {}
        },
        {
          "output_type": "display_data",
          "data": {
            "text/plain": [
              "'-- from torch.ones() -- '"
            ],
            "application/vnd.google.colaboratory.intrinsic+json": {
              "type": "string"
            }
          },
          "metadata": {}
        },
        {
          "output_type": "display_data",
          "data": {
            "text/plain": [
              "tensor([[1., 1., 1.],\n",
              "        [1., 1., 1.]])"
            ]
          },
          "metadata": {}
        },
        {
          "output_type": "display_data",
          "data": {
            "text/plain": [
              "'-- from torch.zeros() -- '"
            ],
            "application/vnd.google.colaboratory.intrinsic+json": {
              "type": "string"
            }
          },
          "metadata": {}
        },
        {
          "output_type": "display_data",
          "data": {
            "text/plain": [
              "tensor([[0., 0., 0.],\n",
              "        [0., 0., 0.]])"
            ]
          },
          "metadata": {}
        },
        {
          "output_type": "display_data",
          "data": {
            "text/plain": [
              "'-- from torch.rand_like() -- '"
            ],
            "application/vnd.google.colaboratory.intrinsic+json": {
              "type": "string"
            }
          },
          "metadata": {}
        },
        {
          "output_type": "display_data",
          "data": {
            "text/plain": [
              "tensor([[0.2173, 0.5789],\n",
              "        [0.5314, 0.8819]])"
            ]
          },
          "metadata": {}
        }
      ]
    },
    {
      "cell_type": "markdown",
      "source": [
        "###Attributes\n",
        "\n",
        "Tensor has following atttributes\n",
        "\n",
        "* .dtype\n",
        "* .shape\n",
        "* .device\n",
        "* .requires_grad\n",
        "* .layout      --> to check if strided or sparse layout"
      ],
      "metadata": {
        "id": "PHrtq4JaRICg"
      }
    },
    {
      "cell_type": "code",
      "source": [
        "print(f\"Shape of tensor: {tensor_rand.shape}\")\n",
        "print(f\"Datatype of tensor: {tensor_rand.dtype}\")\n",
        "print(f\"Device tensor is stored on: {tensor_rand.device}\")\n",
        "print(f\"Tensors require_grad attribute is : {tensor_rand.requires_grad}\")\n",
        "print(f\"Layout of tensor is : {tensor_rand.layout}\")"
      ],
      "metadata": {
        "colab": {
          "base_uri": "https://localhost:8080/"
        },
        "id": "1RFYnslNHYae",
        "outputId": "3ebd6868-00b7-4236-a176-8deeeecb2b12"
      },
      "execution_count": null,
      "outputs": [
        {
          "output_type": "stream",
          "name": "stdout",
          "text": [
            "Shape of tensor: torch.Size([2, 3])\n",
            "Datatype of tensor: torch.float32\n",
            "Device tensor is stored on: cpu\n",
            "Tensors require_grad attribute is : False\n",
            "Layout of tensor is : torch.strided\n"
          ]
        }
      ]
    },
    {
      "cell_type": "markdown",
      "source": [
        "###Operations\n",
        "\n",
        "[all oerations available here](https://pytorch.org/docs/stable/torch.html#)"
      ],
      "metadata": {
        "id": "Z97sZyseTx0r"
      }
    },
    {
      "cell_type": "markdown",
      "source": [
        "#####moving tensor from cpu to cuda device"
      ],
      "metadata": {
        "id": "rkRSQlbtUeXY"
      }
    },
    {
      "cell_type": "code",
      "source": [
        "if torch.cuda.is_available():\n",
        "    tensor_rand = tensor_rand.to(\"cuda\")"
      ],
      "metadata": {
        "id": "5WYITYTlRif5"
      },
      "execution_count": null,
      "outputs": []
    },
    {
      "cell_type": "markdown",
      "source": [
        "#####indexing similar to numy"
      ],
      "metadata": {
        "id": "k9yz3ls3UtbZ"
      }
    },
    {
      "cell_type": "code",
      "source": [
        "tensor = torch.rand(4, 4)\n",
        "display(f\"First row: {tensor[0]}\")\n",
        "display(f\"First column: {tensor[:, 0]}\")\n",
        "display(f\"Last column: {tensor[..., -1]}\")\n",
        "tensor[:,1] = 0\n",
        "display(tensor)"
      ],
      "metadata": {
        "colab": {
          "base_uri": "https://localhost:8080/",
          "height": 140
        },
        "id": "cwyv6X72Uqpg",
        "outputId": "40fc0f32-1775-4bb7-9437-b7df1f15c696"
      },
      "execution_count": null,
      "outputs": [
        {
          "output_type": "display_data",
          "data": {
            "text/plain": [
              "'First row: tensor([0.0152, 0.3100, 0.5704, 0.6453])'"
            ],
            "application/vnd.google.colaboratory.intrinsic+json": {
              "type": "string"
            }
          },
          "metadata": {}
        },
        {
          "output_type": "display_data",
          "data": {
            "text/plain": [
              "'First column: tensor([0.0152, 0.6208, 0.6802, 0.4693])'"
            ],
            "application/vnd.google.colaboratory.intrinsic+json": {
              "type": "string"
            }
          },
          "metadata": {}
        },
        {
          "output_type": "display_data",
          "data": {
            "text/plain": [
              "'Last column: tensor([0.6453, 0.1913, 0.0141, 0.9790])'"
            ],
            "application/vnd.google.colaboratory.intrinsic+json": {
              "type": "string"
            }
          },
          "metadata": {}
        },
        {
          "output_type": "display_data",
          "data": {
            "text/plain": [
              "tensor([[0.0152, 0.0000, 0.5704, 0.6453],\n",
              "        [0.6208, 0.0000, 0.4448, 0.1913],\n",
              "        [0.6802, 0.0000, 0.5879, 0.0141],\n",
              "        [0.4693, 0.0000, 0.6907, 0.9790]])"
            ]
          },
          "metadata": {}
        }
      ]
    },
    {
      "cell_type": "markdown",
      "source": [
        "#####joining tensors"
      ],
      "metadata": {
        "id": "DAVkqkqsYBfp"
      }
    },
    {
      "cell_type": "code",
      "source": [
        "#concating\n",
        "tensor5 = torch.ones((1, 3))\n",
        "tensor5[:, 2] = 0\n",
        "print(tensor5)\n",
        "\n",
        "tensor5_cat = torch.cat([tensor5, tensor5, tensor5], dim=0)\n",
        "tensor5_cat"
      ],
      "metadata": {
        "colab": {
          "base_uri": "https://localhost:8080/"
        },
        "id": "NH78SZf_VDXo",
        "outputId": "02d8c3be-d713-4712-ecee-365d0cee2133"
      },
      "execution_count": null,
      "outputs": [
        {
          "output_type": "stream",
          "name": "stdout",
          "text": [
            "tensor([[1., 1., 0.]])\n"
          ]
        },
        {
          "output_type": "execute_result",
          "data": {
            "text/plain": [
              "tensor([[1., 1., 0.],\n",
              "        [1., 1., 0.],\n",
              "        [1., 1., 0.]])"
            ]
          },
          "metadata": {},
          "execution_count": 52
        }
      ]
    },
    {
      "cell_type": "markdown",
      "source": [
        "#####airtmetic operations"
      ],
      "metadata": {
        "id": "mH2H512QZyLU"
      }
    },
    {
      "cell_type": "code",
      "source": [
        "a = torch.tensor([[1, 0], [0, 1]])\n",
        "print(a)\n",
        "b = torch.tensor([[1,2], [3, 4]])#, dtype=torch.float16)\n",
        "print(b)\n",
        "\n",
        "display(a@b) \n",
        "#matrix multiplication\n",
        "#similar to //  ab = a.matmul(b)\n",
        "\n",
        "\n",
        "display(a*b)\n",
        "#elementwise multiplication\n",
        "#similar to //  ab = a.mul(b)\n",
        "\n",
        "display(a+b)\n",
        "#addition\n",
        "#similar to //  a_b = a.add(b)"
      ],
      "metadata": {
        "colab": {
          "base_uri": "https://localhost:8080/",
          "height": 191
        },
        "id": "ynTDc_SmZIps",
        "outputId": "a411fe44-bcdf-438c-865c-111cb5d8b2e0"
      },
      "execution_count": null,
      "outputs": [
        {
          "output_type": "stream",
          "name": "stdout",
          "text": [
            "tensor([[1, 0],\n",
            "        [0, 1]])\n",
            "tensor([[1, 2],\n",
            "        [3, 4]])\n"
          ]
        },
        {
          "output_type": "display_data",
          "data": {
            "text/plain": [
              "tensor([[1, 2],\n",
              "        [3, 4]])"
            ]
          },
          "metadata": {}
        },
        {
          "output_type": "display_data",
          "data": {
            "text/plain": [
              "tensor([[1, 0],\n",
              "        [0, 4]])"
            ]
          },
          "metadata": {}
        },
        {
          "output_type": "display_data",
          "data": {
            "text/plain": [
              "tensor([[2, 2],\n",
              "        [3, 5]])"
            ]
          },
          "metadata": {}
        }
      ]
    },
    {
      "cell_type": "markdown",
      "source": [
        "#####inplace math operations"
      ],
      "metadata": {
        "id": "BlUmm6gecBFK"
      }
    },
    {
      "cell_type": "code",
      "source": [
        "print(a)\n",
        "a.add_(3)\n",
        "print(a)\n",
        "a.add_(torch.tensor([10, 10]))#notice brodcating \n",
        "print(a)"
      ],
      "metadata": {
        "colab": {
          "base_uri": "https://localhost:8080/"
        },
        "id": "OHmCTtWKZ8Oa",
        "outputId": "3ed15eb0-a10b-4074-958a-c00b9e5fe9bc"
      },
      "execution_count": null,
      "outputs": [
        {
          "output_type": "stream",
          "name": "stdout",
          "text": [
            "tensor([[1, 0],\n",
            "        [0, 1]])\n",
            "tensor([[4, 3],\n",
            "        [3, 4]])\n",
            "tensor([[14, 13],\n",
            "        [13, 14]])\n"
          ]
        }
      ]
    },
    {
      "cell_type": "markdown",
      "source": [
        "##AUTOGRAD"
      ],
      "metadata": {
        "id": "EDS7INm00qP_"
      }
    },
    {
      "cell_type": "code",
      "source": [
        "x = torch.tensor(np.arange(0, 50, 1), dtype=torch.float32, requires_grad=True)\n",
        "print(x)\n",
        "\n",
        "x_2 = x**2\n",
        "print(x_2)"
      ],
      "metadata": {
        "colab": {
          "base_uri": "https://localhost:8080/"
        },
        "id": "yUxdJzwa00gI",
        "outputId": "58a365dc-853a-4768-98c6-2f66e7d3496f"
      },
      "execution_count": null,
      "outputs": [
        {
          "output_type": "stream",
          "name": "stdout",
          "text": [
            "tensor([ 0.,  1.,  2.,  3.,  4.,  5.,  6.,  7.,  8.,  9., 10., 11., 12., 13.,\n",
            "        14., 15., 16., 17., 18., 19., 20., 21., 22., 23., 24., 25., 26., 27.,\n",
            "        28., 29., 30., 31., 32., 33., 34., 35., 36., 37., 38., 39., 40., 41.,\n",
            "        42., 43., 44., 45., 46., 47., 48., 49.], requires_grad=True)\n",
            "tensor([0.0000e+00, 1.0000e+00, 4.0000e+00, 9.0000e+00, 1.6000e+01, 2.5000e+01,\n",
            "        3.6000e+01, 4.9000e+01, 6.4000e+01, 8.1000e+01, 1.0000e+02, 1.2100e+02,\n",
            "        1.4400e+02, 1.6900e+02, 1.9600e+02, 2.2500e+02, 2.5600e+02, 2.8900e+02,\n",
            "        3.2400e+02, 3.6100e+02, 4.0000e+02, 4.4100e+02, 4.8400e+02, 5.2900e+02,\n",
            "        5.7600e+02, 6.2500e+02, 6.7600e+02, 7.2900e+02, 7.8400e+02, 8.4100e+02,\n",
            "        9.0000e+02, 9.6100e+02, 1.0240e+03, 1.0890e+03, 1.1560e+03, 1.2250e+03,\n",
            "        1.2960e+03, 1.3690e+03, 1.4440e+03, 1.5210e+03, 1.6000e+03, 1.6810e+03,\n",
            "        1.7640e+03, 1.8490e+03, 1.9360e+03, 2.0250e+03, 2.1160e+03, 2.2090e+03,\n",
            "        2.3040e+03, 2.4010e+03], grad_fn=<PowBackward0>)\n"
          ]
        }
      ]
    },
    {
      "cell_type": "code",
      "source": [
        "plt.plot(x.detach(), x_2.detach())"
      ],
      "metadata": {
        "colab": {
          "base_uri": "https://localhost:8080/",
          "height": 285
        },
        "id": "RsUatkpmJmu3",
        "outputId": "d5ad13e2-8190-4aee-b73f-8d547731f692"
      },
      "execution_count": null,
      "outputs": [
        {
          "output_type": "execute_result",
          "data": {
            "text/plain": [
              "[<matplotlib.lines.Line2D at 0x7fafd5519a10>]"
            ]
          },
          "metadata": {},
          "execution_count": 51
        },
        {
          "output_type": "display_data",
          "data": {
            "text/plain": [
              "<Figure size 432x288 with 1 Axes>"
            ],
            "image/png": "[encoded data removed]"
          },
          "metadata": {
            "needs_background": "light"
          }
        }
      ]
    },
    {
      "cell_type": "code",
      "source": [
        "y = sum(x_2)\n",
        "y.backward()"
      ],
      "metadata": {
        "id": "FIC5dXey-KfQ"
      },
      "execution_count": null,
      "outputs": []
    },
    {
      "cell_type": "code",
      "source": [
        "x.grad //2x"
      ],
      "metadata": {
        "colab": {
          "base_uri": "https://localhost:8080/"
        },
        "id": "GaIgi5eN-N-3",
        "outputId": "852e5895-0be6-42eb-8a1c-386159d46f8e"
      },
      "execution_count": null,
      "outputs": [
        {
          "output_type": "execute_result",
          "data": {
            "text/plain": [
              "tensor([ 0.,  2.,  4.,  6.,  8., 10., 12., 14., 16., 18., 20., 22., 24., 26.,\n",
              "        28., 30., 32., 34., 36., 38., 40., 42., 44., 46., 48., 50., 52., 54.,\n",
              "        56., 58., 60., 62., 64., 66., 68., 70., 72., 74., 76., 78., 80., 82.,\n",
              "        84., 86., 88., 90., 92., 94., 96., 98.])"
            ]
          },
          "metadata": {},
          "execution_count": 53
        }
      ]
    },
    {
      "cell_type": "code",
      "source": [
        "i=25\n",
        "point = x.detach()[i].numpy()\n",
        "value = x_2.detach()[i].numpy()\n",
        "slope = x.grad.detach()[i].numpy()\n",
        "print(point, value, slope)\n",
        "x_range = np.linspace(point-5, point+5, 20)\n",
        "y_range = slope*(x_range-point)+value #line(slope, point, value)\n",
        "print(x_range, y_range)\n"
      ],
      "metadata": {
        "colab": {
          "base_uri": "https://localhost:8080/"
        },
        "id": "j6pfzVHJK8VG",
        "outputId": "c079e88e-c54b-47ec-bb4f-5d9764bea76a"
      },
      "execution_count": null,
      "outputs": [
        {
          "output_type": "stream",
          "name": "stdout",
          "text": [
            "25.0 625.0 50.0\n",
            "[20.         20.52631579 21.05263158 21.57894737 22.10526316 22.63157895\n",
            " 23.15789474 23.68421053 24.21052632 24.73684211 25.26315789 25.78947368\n",
            " 26.31578947 26.84210526 27.36842105 27.89473684 28.42105263 28.94736842\n",
            " 29.47368421 30.        ] [375.         401.31578947 427.63157895 453.94736842 480.26315789\n",
            " 506.57894737 532.89473684 559.21052632 585.52631579 611.84210526\n",
            " 638.15789474 664.47368421 690.78947368 717.10526316 743.42105263\n",
            " 769.73684211 796.05263158 822.36842105 848.68421053 875.        ]\n"
          ]
        }
      ]
    },
    {
      "cell_type": "code",
      "source": [
        "plt.plot(x.detach(), x_2.detach())\n",
        "plt.scatter([point], [value], color=\"red\")\n",
        "plt.plot(x_range, y_range, '--', linewidth = 3, color=\"green\")"
      ],
      "metadata": {
        "colab": {
          "base_uri": "https://localhost:8080/",
          "height": 285
        },
        "id": "8ry2Rl8uNoqJ",
        "outputId": "56506ef1-2816-4bb1-fa5a-dfb07306c428"
      },
      "execution_count": null,
      "outputs": [
        {
          "output_type": "execute_result",
          "data": {
            "text/plain": [
              "[<matplotlib.lines.Line2D at 0x7fafd488cfd0>]"
            ]
          },
          "metadata": {},
          "execution_count": 86
        },
        {
          "output_type": "display_data",
          "data": {
            "text/plain": [
              "<Figure size 432x288 with 1 Axes>"
            ],
            "image/png": "[encoded data removed]"
          },
          "metadata": {
            "needs_background": "light"
          }
        }
      ]
    },
    {
      "cell_type": "markdown",
      "source": [
        "##Dataset and DataLoader\n",
        "\n",
        "using mushroom classification dataset\n",
        "\n",
        "[learn about data](https://www.kaggle.com/datasets/uciml/mushroom-classification/code?datasetId=478&sortBy=voteCount)"
      ],
      "metadata": {
        "id": "XSdSvpKut1Jp"
      }
    },
    {
      "cell_type": "code",
      "source": [
        "import sklearn \n",
        "from sklearn.model_selection import train_test_split\n",
        "from sklearn.preprocessing import LabelEncoder, OrdinalEncoder\n",
        "\n",
        "from torch.utils.data import Dataset, DataLoader\n",
        "from torchvision import transforms, utils"
      ],
      "metadata": {
        "id": "xWz49_1CuXQr"
      },
      "execution_count": null,
      "outputs": []
    },
    {
      "cell_type": "markdown",
      "source": [
        "####preprocessing and loading data"
      ],
      "metadata": {
        "id": "io4S9pe503nO"
      }
    },
    {
      "cell_type": "code",
      "source": [
        "data = pd.read_csv('/content/drive/MyDrive/Colab Notebooks/mushrooms.csv')"
      ],
      "metadata": {
        "id": "PZ29EPoRtxnf"
      },
      "execution_count": null,
      "outputs": []
    },
    {
      "cell_type": "code",
      "source": [
        "data.head(3)"
      ],
      "metadata": {
        "id": "PoNt5mtJcMwM",
        "colab": {
          "base_uri": "https://localhost:8080/",
          "height": 259
        },
        "outputId": "243e6d7a-02b1-42c1-f2cd-1a8446bb936e"
      },
      "execution_count": null,
      "outputs": [
        {
          "output_type": "execute_result",
          "data": {
            "text/plain": [
              "  class cap-shape cap-surface cap-color bruises odor gill-attachment  \\\n",
              "0     p         x           s         n       t    p               f   \n",
              "1     e         x           s         y       t    a               f   \n",
              "2     e         b           s         w       t    l               f   \n",
              "\n",
              "  gill-spacing gill-size gill-color stalk-shape stalk-root  \\\n",
              "0            c         n          k           e          e   \n",
              "1            c         b          k           e          c   \n",
              "2            c         b          n           e          c   \n",
              "\n",
              "  stalk-surface-above-ring stalk-surface-below-ring stalk-color-above-ring  \\\n",
              "0                        s                        s                      w   \n",
              "1                        s                        s                      w   \n",
              "2                        s                        s                      w   \n",
              "\n",
              "  stalk-color-below-ring veil-type veil-color ring-number ring-type  \\\n",
              "0                      w         p          w           o         p   \n",
              "1                      w         p          w           o         p   \n",
              "2                      w         p          w           o         p   \n",
              "\n",
              "  spore-print-color population habitat  \n",
              "0                 k          s       u  \n",
              "1                 n          n       g  \n",
              "2                 n          n       m  "
            ],
            "text/html": [
              "\n",
              "  <div id=\"df-71c1fd0f-db2b-44cb-ae99-d468f1450e5c\">\n",
              "    <div class=\"colab-df-container\">\n",
              "      <div>\n",
              "<style scoped>\n",
              "    .dataframe tbody tr th:only-of-type {\n",
              "        vertical-align: middle;\n",
              "    }\n",
              "\n",
              "    .dataframe tbody tr th {\n",
              "        vertical-align: top;\n",
              "    }\n",
              "\n",
              "    .dataframe thead th {\n",
              "        text-align: right;\n",
              "    }\n",
              "</style>\n",
              "<table border=\"1\" class=\"dataframe\">\n",
              "  <thead>\n",
              "    <tr style=\"text-align: right;\">\n",
              "      <th></th>\n",
              "      <th>class</th>\n",
              "      <th>cap-shape</th>\n",
              "      <th>cap-surface</th>\n",
              "      <th>cap-color</th>\n",
              "      <th>bruises</th>\n",
              "      <th>odor</th>\n",
              "      <th>gill-attachment</th>\n",
              "      <th>gill-spacing</th>\n",
              "      <th>gill-size</th>\n",
              "      <th>gill-color</th>\n",
              "      <th>stalk-shape</th>\n",
              "      <th>stalk-root</th>\n",
              "      <th>stalk-surface-above-ring</th>\n",
              "      <th>stalk-surface-below-ring</th>\n",
              "      <th>stalk-color-above-ring</th>\n",
              "      <th>stalk-color-below-ring</th>\n",
              "      <th>veil-type</th>\n",
              "      <th>veil-color</th>\n",
              "      <th>ring-number</th>\n",
              "      <th>ring-type</th>\n",
              "      <th>spore-print-color</th>\n",
              "      <th>population</th>\n",
              "      <th>habitat</th>\n",
              "    </tr>\n",
              "  </thead>\n",
              "  <tbody>\n",
              "    <tr>\n",
              "      <th>0</th>\n",
              "      <td>p</td>\n",
              "      <td>x</td>\n",
              "      <td>s</td>\n",
              "      <td>n</td>\n",
              "      <td>t</td>\n",
              "      <td>p</td>\n",
              "      <td>f</td>\n",
              "      <td>c</td>\n",
              "      <td>n</td>\n",
              "      <td>k</td>\n",
              "      <td>e</td>\n",
              "      <td>e</td>\n",
              "      <td>s</td>\n",
              "      <td>s</td>\n",
              "      <td>w</td>\n",
              "      <td>w</td>\n",
              "      <td>p</td>\n",
              "      <td>w</td>\n",
              "      <td>o</td>\n",
              "      <td>p</td>\n",
              "      <td>k</td>\n",
              "      <td>s</td>\n",
              "      <td>u</td>\n",
              "    </tr>\n",
              "    <tr>\n",
              "      <th>1</th>\n",
              "      <td>e</td>\n",
              "      <td>x</td>\n",
              "      <td>s</td>\n",
              "      <td>y</td>\n",
              "      <td>t</td>\n",
              "      <td>a</td>\n",
              "      <td>f</td>\n",
              "      <td>c</td>\n",
              "      <td>b</td>\n",
              "      <td>k</td>\n",
              "      <td>e</td>\n",
              "      <td>c</td>\n",
              "      <td>s</td>\n",
              "      <td>s</td>\n",
              "      <td>w</td>\n",
              "      <td>w</td>\n",
              "      <td>p</td>\n",
              "      <td>w</td>\n",
              "      <td>o</td>\n",
              "      <td>p</td>\n",
              "      <td>n</td>\n",
              "      <td>n</td>\n",
              "      <td>g</td>\n",
              "    </tr>\n",
              "    <tr>\n",
              "      <th>2</th>\n",
              "      <td>e</td>\n",
              "      <td>b</td>\n",
              "      <td>s</td>\n",
              "      <td>w</td>\n",
              "      <td>t</td>\n",
              "      <td>l</td>\n",
              "      <td>f</td>\n",
              "      <td>c</td>\n",
              "      <td>b</td>\n",
              "      <td>n</td>\n",
              "      <td>e</td>\n",
              "      <td>c</td>\n",
              "      <td>s</td>\n",
              "      <td>s</td>\n",
              "      <td>w</td>\n",
              "      <td>w</td>\n",
              "      <td>p</td>\n",
              "      <td>w</td>\n",
              "      <td>o</td>\n",
              "      <td>p</td>\n",
              "      <td>n</td>\n",
              "      <td>n</td>\n",
              "      <td>m</td>\n",
              "    </tr>\n",
              "  </tbody>\n",
              "</table>\n",
              "</div>\n",
              "      <button class=\"colab-df-convert\" onclick=\"convertToInteractive('df-71c1fd0f-db2b-44cb-ae99-d468f1450e5c')\"\n",
              "              title=\"Convert this dataframe to an interactive table.\"\n",
              "              style=\"display:none;\">\n",
              "        \n",
              "  <svg xmlns=\"http://www.w3.org/2000/svg\" height=\"24px\"viewBox=\"0 0 24 24\"\n",
              "       width=\"24px\">\n",
              "    <path d=\"M0 0h24v24H0V0z\" fill=\"none\"/>\n",
              "    <path d=\"M18.56 5.44l.94 2.06.94-2.06 2.06-.94-2.06-.94-.94-2.06-.94 2.06-2.06.94zm-11 1L8.5 8.5l.94-2.06 2.06-.94-2.06-.94L8.5 2.5l-.94 2.06-2.06.94zm10 10l.94 2.06.94-2.06 2.06-.94-2.06-.94-.94-2.06-.94 2.06-2.06.94z\"/><path d=\"M17.41 7.96l-1.37-1.37c-.4-.4-.92-.59-1.43-.59-.52 0-1.04.2-1.43.59L10.3 9.45l-7.72 7.72c-.78.78-.78 2.05 0 2.83L4 21.41c.39.39.9.59 1.41.59.51 0 1.02-.2 1.41-.59l7.78-7.78 2.81-2.81c.8-.78.8-2.07 0-2.86zM5.41 20L4 18.59l7.72-7.72 1.47 1.35L5.41 20z\"/>\n",
              "  </svg>\n",
              "      </button>\n",
              "      \n",
              "  <style>\n",
              "    .colab-df-container {\n",
              "      display:flex;\n",
              "      flex-wrap:wrap;\n",
              "      gap: 12px;\n",
              "    }\n",
              "\n",
              "    .colab-df-convert {\n",
              "      background-color: #E8F0FE;\n",
              "      border: none;\n",
              "      border-radius: 50%;\n",
              "      cursor: pointer;\n",
              "      display: none;\n",
              "      fill: #1967D2;\n",
              "      height: 32px;\n",
              "      padding: 0 0 0 0;\n",
              "      width: 32px;\n",
              "    }\n",
              "\n",
              "    .colab-df-convert:hover {\n",
              "      background-color: #E2EBFA;\n",
              "      box-shadow: 0px 1px 2px rgba(60, 64, 67, 0.3), 0px 1px 3px 1px rgba(60, 64, 67, 0.15);\n",
              "      fill: #174EA6;\n",
              "    }\n",
              "\n",
              "    [theme=dark] .colab-df-convert {\n",
              "      background-color: #3B4455;\n",
              "      fill: #D2E3FC;\n",
              "    }\n",
              "\n",
              "    [theme=dark] .colab-df-convert:hover {\n",
              "      background-color: #434B5C;\n",
              "      box-shadow: 0px 1px 3px 1px rgba(0, 0, 0, 0.15);\n",
              "      filter: drop-shadow(0px 1px 2px rgba(0, 0, 0, 0.3));\n",
              "      fill: #FFFFFF;\n",
              "    }\n",
              "  </style>\n",
              "\n",
              "      <script>\n",
              "        const buttonEl =\n",
              "          document.querySelector('#df-71c1fd0f-db2b-44cb-ae99-d468f1450e5c button.colab-df-convert');\n",
              "        buttonEl.style.display =\n",
              "          google.colab.kernel.accessAllowed ? 'block' : 'none';\n",
              "\n",
              "        async function convertToInteractive(key) {\n",
              "          const element = document.querySelector('#df-71c1fd0f-db2b-44cb-ae99-d468f1450e5c');\n",
              "          const dataTable =\n",
              "            await google.colab.kernel.invokeFunction('convertToInteractive',\n",
              "                                                     [key], {});\n",
              "          if (!dataTable) return;\n",
              "\n",
              "          const docLinkHtml = 'Like what you see? Visit the ' +\n",
              "            '<a target=\"_blank\" href=https://colab.research.google.com/notebooks/data_table.ipynb>data table notebook</a>'\n",
              "            + ' to learn more about interactive tables.';\n",
              "          element.innerHTML = '';\n",
              "          dataTable['output_type'] = 'display_data';\n",
              "          await google.colab.output.renderOutput(dataTable, element);\n",
              "          const docLink = document.createElement('div');\n",
              "          docLink.innerHTML = docLinkHtml;\n",
              "          element.appendChild(docLink);\n",
              "        }\n",
              "      </script>\n",
              "    </div>\n",
              "  </div>\n",
              "  "
            ]
          },
          "metadata": {},
          "execution_count": 3
        }
      ]
    },
    {
      "cell_type": "code",
      "source": [
        "data.info()"
      ],
      "metadata": {
        "colab": {
          "base_uri": "https://localhost:8080/"
        },
        "id": "kZrCEXwfNRZt",
        "outputId": "b67f2d81-48dc-4828-d9cd-9ee0a69080ad"
      },
      "execution_count": null,
      "outputs": [
        {
          "output_type": "stream",
          "name": "stdout",
          "text": [
            "<class 'pandas.core.frame.DataFrame'>\n",
            "RangeIndex: 8124 entries, 0 to 8123\n",
            "Data columns (total 23 columns):\n",
            " #   Column                    Non-Null Count  Dtype \n",
            "---  ------                    --------------  ----- \n",
            " 0   class                     8124 non-null   object\n",
            " 1   cap-shape                 8124 non-null   object\n",
            " 2   cap-surface               8124 non-null   object\n",
            " 3   cap-color                 8124 non-null   object\n",
            " 4   bruises                   8124 non-null   object\n",
            " 5   odor                      8124 non-null   object\n",
            " 6   gill-attachment           8124 non-null   object\n",
            " 7   gill-spacing              8124 non-null   object\n",
            " 8   gill-size                 8124 non-null   object\n",
            " 9   gill-color                8124 non-null   object\n",
            " 10  stalk-shape               8124 non-null   object\n",
            " 11  stalk-root                8124 non-null   object\n",
            " 12  stalk-surface-above-ring  8124 non-null   object\n",
            " 13  stalk-surface-below-ring  8124 non-null   object\n",
            " 14  stalk-color-above-ring    8124 non-null   object\n",
            " 15  stalk-color-below-ring    8124 non-null   object\n",
            " 16  veil-type                 8124 non-null   object\n",
            " 17  veil-color                8124 non-null   object\n",
            " 18  ring-number               8124 non-null   object\n",
            " 19  ring-type                 8124 non-null   object\n",
            " 20  spore-print-color         8124 non-null   object\n",
            " 21  population                8124 non-null   object\n",
            " 22  habitat                   8124 non-null   object\n",
            "dtypes: object(23)\n",
            "memory usage: 1.4+ MB\n"
          ]
        }
      ]
    },
    {
      "cell_type": "code",
      "source": [
        "plt.figure(figsize=(25,25))\n",
        "for i, column in enumerate(data.columns):\n",
        "  counts = data[column].value_counts()\n",
        "  plt.subplot(5,5,i+1)\n",
        "  sns.barplot(x=counts.index, y=counts.values)\n",
        "  plt.title(f\"{counts.name} distribution\")\n",
        "  # plt.axis('off')"
      ],
      "metadata": {
        "colab": {
          "base_uri": "https://localhost:8080/",
          "height": 853
        },
        "id": "q4PsUHYaYcsj",
        "outputId": "8bd8ba63-fa63-4eee-a12a-770ca9ff6685"
      },
      "execution_count": null,
      "outputs": [
        {
          "output_type": "display_data",
          "data": {
            "text/plain": [
              "<Figure size 1800x1800 with 23 Axes>"
            ],
            "image/png": "[encoded data removed]"
          },
          "metadata": {
            "needs_background": "light"
          }
        }
      ]
    },
    {
      "cell_type": "markdown",
      "source": [
        "from above we can clearly remove veil type distribution from our data becuase its constant value"
      ],
      "metadata": {
        "id": "MT6r_olZ1ZxM"
      }
    },
    {
      "cell_type": "code",
      "source": [
        "columns = data.columns\n",
        "X = data.copy()\n",
        "y = X.pop('class')\n",
        "X.drop('veil-type', inplace=True)\n",
        "\n",
        "type(X), type(y), X.shape"
      ],
      "metadata": {
        "colab": {
          "base_uri": "https://localhost:8080/"
        },
        "id": "KGTfHMoVQVH3",
        "outputId": "b7ebba10-a374-4850-e936-7d1f8a8acf43"
      },
      "execution_count": null,
      "outputs": [
        {
          "output_type": "execute_result",
          "data": {
            "text/plain": [
              "(pandas.core.frame.DataFrame, pandas.core.series.Series, (8124, 22))"
            ]
          },
          "metadata": {},
          "execution_count": 8
        }
      ]
    },
    {
      "cell_type": "code",
      "source": [
        "x_train, x_test, y_train, y_test = train_test_split(X.values, y.values, train_size=0.8)\n",
        "x_train.shape, x_test.shape, type(x_train), type(y_train)"
      ],
      "metadata": {
        "id": "bo9fikQZagQ3",
        "colab": {
          "base_uri": "https://localhost:8080/"
        },
        "outputId": "b78634da-25b2-4745-ccee-c07d7aaeeb45"
      },
      "execution_count": null,
      "outputs": [
        {
          "output_type": "execute_result",
          "data": {
            "text/plain": [
              "((6499, 22), (1625, 22), numpy.ndarray, numpy.ndarray)"
            ]
          },
          "metadata": {},
          "execution_count": 13
        }
      ]
    },
    {
      "cell_type": "code",
      "source": [
        "def encode_inputs(x_train, x_test):\n",
        "  oe = OrdinalEncoder()\n",
        "  oe.fit(x_train)\n",
        "  return (oe.transform(x_train), oe.transform(x_test))\n",
        "\n",
        "def encode_targets(y_train, y_test):\n",
        "  le = LabelEncoder()\n",
        "  le.fit(y_train)\n",
        "  return(le.transform(y_train), le.transform(y_test))"
      ],
      "metadata": {
        "id": "bGmGwzHEyKuC"
      },
      "execution_count": null,
      "outputs": []
    },
    {
      "cell_type": "code",
      "source": [
        "x_train_e, x_test_e = encode_inputs(x_train, x_test)\n",
        "y_train_e, y_test_e = encode_targets(y_train, y_test)\n",
        "\n",
        "type(x_train_e), type(x_train_e[0, 0])"
      ],
      "metadata": {
        "colab": {
          "base_uri": "https://localhost:8080/"
        },
        "id": "wo41b21cznzF",
        "outputId": "58c8b8ab-3371-4baf-f904-067e2a55f20e"
      },
      "execution_count": null,
      "outputs": [
        {
          "output_type": "execute_result",
          "data": {
            "text/plain": [
              "(numpy.ndarray, numpy.float64)"
            ]
          },
          "metadata": {},
          "execution_count": 57
        }
      ]
    },
    {
      "cell_type": "markdown",
      "source": [
        "####Building Dataset class and Dataloader iterable"
      ],
      "metadata": {
        "id": "gm2WST6709nZ"
      }
    },
    {
      "cell_type": "code",
      "source": [
        "class MyDataset(Dataset):\n",
        "  def __init__(self, X, y, transform=None):\n",
        "    self.X = X\n",
        "    self.y = y\n",
        "    self.transform = transform\n",
        "\n",
        "  def __len__(self):\n",
        "    return len(self.X)\n",
        "  \n",
        "  def __getitem__(self, idx):\n",
        "    if torch.is_tensor(idx):\n",
        "      idx = idx.tolist()\n",
        "    \n",
        "    sample = {'data':self.X[idx], 'target':self.y[idx]}\n",
        "\n",
        "    if self.transform:\n",
        "      sample = transform(sample)\n",
        "    \n",
        "    return sample\n",
        "  "
      ],
      "metadata": {
        "id": "EpDe9ZHJz6cv"
      },
      "execution_count": null,
      "outputs": []
    },
    {
      "cell_type": "code",
      "source": [
        "#to apply a transfromation to a data make custom classes\n",
        "\n",
        "class to_tensor(object):\n",
        "  def __init__(self):\n",
        "    self = self\n",
        "  def __call__(self, sample):\n",
        "    sample['data'] = torch.tensor(sample['data'], device=device)\n",
        "    sample['target'] = torch.tensor(sample['target'], device=device)\n",
        "    return sample\n",
        "\n",
        "transform = transforms.Compose([to_tensor()])"
      ],
      "metadata": {
        "id": "jy9v_eYoDqq0"
      },
      "execution_count": null,
      "outputs": []
    },
    {
      "cell_type": "code",
      "source": [
        "dataset = MyDataset(x_train_e, y_train_e, transform)\n",
        "type(dataset)"
      ],
      "metadata": {
        "colab": {
          "base_uri": "https://localhost:8080/"
        },
        "id": "NOon9ongAI9s",
        "outputId": "efa4a43f-24f8-42aa-bc00-a2b2cd61e7fe"
      },
      "execution_count": null,
      "outputs": [
        {
          "output_type": "execute_result",
          "data": {
            "text/plain": [
              "__main__.MyDataset"
            ]
          },
          "metadata": {},
          "execution_count": 137
        }
      ]
    },
    {
      "cell_type": "code",
      "source": [
        "train_size = int(0.8 * len(dataset))\n",
        "val_size = len(dataset) - train_size\n",
        "train_dataset, val_dataset = torch.utils.data.random_split(dataset, [train_size, val_size])"
      ],
      "metadata": {
        "id": "GZ5Pq117ZEXE"
      },
      "execution_count": null,
      "outputs": []
    },
    {
      "cell_type": "code",
      "source": [
        "train_dataloader = DataLoader(train_dataset, batch_size=32,\n",
        "                        shuffle=True, num_workers=0)\n",
        "val_dataloader = DataLoader(val_dataset, batch_size=32,\n",
        "                        shuffle=False, num_workers=0)"
      ],
      "metadata": {
        "id": "DDXZgIGiApbi"
      },
      "execution_count": null,
      "outputs": []
    },
    {
      "cell_type": "markdown",
      "source": [
        "##Model Building"
      ],
      "metadata": {
        "id": "ozgQ-3ssLIwS"
      }
    },
    {
      "cell_type": "code",
      "source": [
        "from torch import nn\n",
        "import time\n",
        "import copy\n",
        "import torch.optim as optim\n",
        "from torch.optim import lr_scheduler"
      ],
      "metadata": {
        "id": "BU8z6kWHLouV"
      },
      "execution_count": null,
      "outputs": []
    },
    {
      "cell_type": "code",
      "source": [
        "dataloaders = {'train':train_dataloader, 'val':val_dataloader}\n",
        "dataset_sizes = {'train':train_size, 'val':val_size}"
      ],
      "metadata": {
        "id": "Qhz23wuKLMsK"
      },
      "execution_count": null,
      "outputs": []
    },
    {
      "cell_type": "code",
      "source": [
        "def train_model(model, dataloaders, dataset_sizes, criterion, optimizer, scheduler, num_epochs=25):\n",
        "    since = time.time()\n",
        "\n",
        "    best_model_wts = copy.deepcopy(model.state_dict())\n",
        "    best_acc = 0.0\n",
        "\n",
        "    for epoch in range(num_epochs):\n",
        "        print(f'Epoch {epoch}/{num_epochs - 1}')\n",
        "        print('-' * 10)\n",
        "\n",
        "        # Each epoch has a training and validation phase\n",
        "        for phase in ['train', 'val']:\n",
        "            if phase == 'train':\n",
        "                model.train()  # Set model to training mode\n",
        "            else:\n",
        "                model.eval()   # Set model to evaluate mode\n",
        "\n",
        "            running_loss = 0.0\n",
        "            running_corrects = 0\n",
        "\n",
        "            # Iterate over data.\n",
        "            for sample in dataloaders[phase]:\n",
        "                inputs = sample['data'].to(device)\n",
        "                labels = sample['target'].to(device)\n",
        "\n",
        "                # zero the parameter gradients\n",
        "                optimizer.zero_grad()\n",
        "\n",
        "                # forward\n",
        "                # track history if only in train\n",
        "                with torch.set_grad_enabled(phase == 'train'):\n",
        "                    outputs = model(inputs)\n",
        "                    _, preds = torch.max(outputs, 1)\n",
        "                    loss = criterion(outputs, labels)\n",
        "\n",
        "                    # backward + optimize only if in training phase\n",
        "                    if phase == 'train':\n",
        "                        loss.backward()\n",
        "                        optimizer.step()\n",
        "\n",
        "                # statistics\n",
        "                running_loss += loss.item() * inputs.size(0)\n",
        "                running_corrects += torch.sum(preds == labels.data)\n",
        "            if phase == 'train':\n",
        "                scheduler.step()\n",
        "\n",
        "            epoch_loss = running_loss / dataset_sizes[phase]\n",
        "            epoch_acc = running_corrects.double() / dataset_sizes[phase]\n",
        "\n",
        "            print(f'{phase} Loss: {epoch_loss:.4f} Acc: {epoch_acc:.4f}')\n",
        "\n",
        "            # deep copy the model\n",
        "            if phase == 'val' and epoch_acc > best_acc:\n",
        "                best_acc = epoch_acc\n",
        "                best_model_wts = copy.deepcopy(model.state_dict())\n",
        "\n",
        "        print()\n",
        "\n",
        "    time_elapsed = time.time() - since\n",
        "    print(f'Training complete in {time_elapsed // 60:.0f}m {time_elapsed % 60:.0f}s')\n",
        "    print(f'Best val Acc: {best_acc:4f}')\n",
        "\n",
        "    # load best model weights\n",
        "    model.load_state_dict(best_model_wts)\n",
        "    return model"
      ],
      "metadata": {
        "id": "_dNxwVZQLhBr"
      },
      "execution_count": null,
      "outputs": []
    },
    {
      "cell_type": "code",
      "source": [
        "input_featurs = x_train.shape[1]"
      ],
      "metadata": {
        "id": "nnfxR5Z6c1xG"
      },
      "execution_count": null,
      "outputs": []
    },
    {
      "cell_type": "code",
      "source": [
        "class Model(nn.Module):\n",
        "  def __init__(self):\n",
        "    super(Model, self).__init__()\n",
        "    self.linear_relu_stack = nn.Sequential(\n",
        "        nn.Linear(input_featurs, 32, device=device, dtype=torch.float64),\n",
        "        nn.ReLU(),\n",
        "        nn.Linear(32, 64, device=device, dtype=torch.float64),\n",
        "        nn.ReLU(),\n",
        "        nn.Linear(64, 2, device=device, dtype=torch.float64),\n",
        "        nn.ReLU(),\n",
        "        nn.Softmax(dim=1)\n",
        "    )\n",
        "\n",
        "  def forward(self, x):\n",
        "    logits = self.linear_relu_stack(x)\n",
        "    return logits\n",
        "model = Model()\n",
        "model"
      ],
      "metadata": {
        "colab": {
          "base_uri": "https://localhost:8080/"
        },
        "id": "ln7niHgIZ_VR",
        "outputId": "b42e8583-da72-4400-f6db-5518a7bb8e2d"
      },
      "execution_count": null,
      "outputs": [
        {
          "output_type": "execute_result",
          "data": {
            "text/plain": [
              "Model(\n",
              "  (linear_relu_stack): Sequential(\n",
              "    (0): Linear(in_features=22, out_features=32, bias=True)\n",
              "    (1): ReLU()\n",
              "    (2): Linear(in_features=32, out_features=64, bias=True)\n",
              "    (3): ReLU()\n",
              "    (4): Linear(in_features=64, out_features=2, bias=True)\n",
              "    (5): ReLU()\n",
              "    (6): Softmax(dim=1)\n",
              "  )\n",
              ")"
            ]
          },
          "metadata": {},
          "execution_count": 208
        }
      ]
    },
    {
      "cell_type": "code",
      "source": [
        "l = [module for module in model.modules() if not isinstance(module, nn.Sequential)]\n",
        "l"
      ],
      "metadata": {
        "colab": {
          "base_uri": "https://localhost:8080/"
        },
        "id": "FjKmT5eAoGsn",
        "outputId": "67942949-263b-4775-93e1-9b22826e3a1c"
      },
      "execution_count": null,
      "outputs": [
        {
          "output_type": "execute_result",
          "data": {
            "text/plain": [
              "[Model(\n",
              "   (linear_relu_stack): Sequential(\n",
              "     (0): Linear(in_features=22, out_features=32, bias=True)\n",
              "     (1): ReLU()\n",
              "     (2): Linear(in_features=32, out_features=2, bias=True)\n",
              "     (3): Softmax(dim=None)\n",
              "   )\n",
              " ),\n",
              " Linear(in_features=22, out_features=32, bias=True),\n",
              " ReLU(),\n",
              " Linear(in_features=32, out_features=2, bias=True),\n",
              " Softmax(dim=None)]"
            ]
          },
          "metadata": {},
          "execution_count": 194
        }
      ]
    },
    {
      "cell_type": "code",
      "source": [
        "# for sample in dataloaders['train']:\n",
        "#     print(sample['data'].shape)"
      ],
      "metadata": {
        "id": "_ny_KhcQeU66"
      },
      "execution_count": null,
      "outputs": []
    },
    {
      "cell_type": "code",
      "source": [
        "criterion = nn.CrossEntropyLoss()\n",
        "\n",
        "# Observe that all parameters are being optimized\n",
        "optimizer_ft = optim.SGD(model.parameters(), lr=0.001, momentum=0.9)\n",
        "\n",
        "# Decay LR by a factor of 0.1 every 7 epochs\n",
        "exp_lr_scheduler = lr_scheduler.StepLR(optimizer_ft, step_size=7, gamma=0.1)"
      ],
      "metadata": {
        "id": "vDXlOVJaais1"
      },
      "execution_count": null,
      "outputs": []
    },
    {
      "cell_type": "code",
      "source": [
        "model = train_model(model, dataloaders, dataset_sizes, criterion, optimizer_ft, exp_lr_scheduler, num_epochs=25);"
      ],
      "metadata": {
        "colab": {
          "base_uri": "https://localhost:8080/"
        },
        "id": "UNChLqfOdHae",
        "outputId": "5f51a342-d1ec-4e16-ab86-20091042ba96"
      },
      "execution_count": null,
      "outputs": [
        {
          "output_type": "stream",
          "name": "stdout",
          "text": [
            "Epoch 0/24\n",
            "----------\n",
            "train Loss: 0.6831 Acc: 0.5114\n",
            "val Loss: 0.6669 Acc: 0.5146\n",
            "\n",
            "Epoch 1/24\n",
            "----------\n",
            "train Loss: 0.6529 Acc: 0.5116\n",
            "val Loss: 0.6404 Acc: 0.5146\n",
            "\n",
            "Epoch 2/24\n",
            "----------\n",
            "train Loss: 0.6298 Acc: 0.5268\n",
            "val Loss: 0.6183 Acc: 0.5538\n",
            "\n",
            "Epoch 3/24\n",
            "----------\n",
            "train Loss: 0.6096 Acc: 0.5809\n",
            "val Loss: 0.5961 Acc: 0.6308\n",
            "\n",
            "Epoch 4/24\n",
            "----------\n",
            "train Loss: 0.5880 Acc: 0.6580\n",
            "val Loss: 0.5689 Acc: 0.7577\n",
            "\n",
            "Epoch 5/24\n",
            "----------\n",
            "train Loss: 0.5239 Acc: 0.8563\n",
            "val Loss: 0.4909 Acc: 0.8692\n",
            "\n",
            "Epoch 6/24\n",
            "----------\n",
            "train Loss: 0.4793 Acc: 0.8671\n",
            "val Loss: 0.4649 Acc: 0.8754\n",
            "\n",
            "Epoch 7/24\n",
            "----------\n",
            "train Loss: 0.4664 Acc: 0.8715\n",
            "val Loss: 0.4631 Acc: 0.8762\n",
            "\n",
            "Epoch 8/24\n",
            "----------\n",
            "train Loss: 0.4645 Acc: 0.8715\n",
            "val Loss: 0.4612 Acc: 0.8777\n",
            "\n",
            "Epoch 9/24\n",
            "----------\n",
            "train Loss: 0.4627 Acc: 0.8727\n",
            "val Loss: 0.4595 Acc: 0.8785\n",
            "\n",
            "Epoch 10/24\n",
            "----------\n",
            "train Loss: 0.4610 Acc: 0.8732\n",
            "val Loss: 0.4579 Acc: 0.8792\n",
            "\n",
            "Epoch 11/24\n",
            "----------\n",
            "train Loss: 0.4593 Acc: 0.8750\n",
            "val Loss: 0.4563 Acc: 0.8800\n",
            "\n",
            "Epoch 12/24\n",
            "----------\n",
            "train Loss: 0.4577 Acc: 0.8756\n",
            "val Loss: 0.4547 Acc: 0.8815\n",
            "\n",
            "Epoch 13/24\n",
            "----------\n",
            "train Loss: 0.4561 Acc: 0.8767\n",
            "val Loss: 0.4532 Acc: 0.8838\n",
            "\n",
            "Epoch 14/24\n",
            "----------\n",
            "train Loss: 0.4552 Acc: 0.8771\n",
            "val Loss: 0.4530 Acc: 0.8838\n",
            "\n",
            "Epoch 15/24\n",
            "----------\n",
            "train Loss: 0.4550 Acc: 0.8773\n",
            "val Loss: 0.4529 Acc: 0.8838\n",
            "\n",
            "Epoch 16/24\n",
            "----------\n",
            "train Loss: 0.4548 Acc: 0.8773\n",
            "val Loss: 0.4527 Acc: 0.8838\n",
            "\n",
            "Epoch 17/24\n",
            "----------\n",
            "train Loss: 0.4547 Acc: 0.8773\n",
            "val Loss: 0.4525 Acc: 0.8838\n",
            "\n",
            "Epoch 18/24\n",
            "----------\n",
            "train Loss: 0.4545 Acc: 0.8775\n",
            "val Loss: 0.4524 Acc: 0.8838\n",
            "\n",
            "Epoch 19/24\n",
            "----------\n",
            "train Loss: 0.4544 Acc: 0.8775\n",
            "val Loss: 0.4522 Acc: 0.8838\n",
            "\n",
            "Epoch 20/24\n",
            "----------\n",
            "train Loss: 0.4542 Acc: 0.8777\n",
            "val Loss: 0.4521 Acc: 0.8838\n",
            "\n",
            "Epoch 21/24\n",
            "----------\n",
            "train Loss: 0.4541 Acc: 0.8775\n",
            "val Loss: 0.4521 Acc: 0.8838\n",
            "\n",
            "Epoch 22/24\n",
            "----------\n",
            "train Loss: 0.4541 Acc: 0.8775\n",
            "val Loss: 0.4521 Acc: 0.8838\n",
            "\n",
            "Epoch 23/24\n",
            "----------\n",
            "train Loss: 0.4541 Acc: 0.8775\n",
            "val Loss: 0.4520 Acc: 0.8838\n",
            "\n",
            "Epoch 24/24\n",
            "----------\n",
            "train Loss: 0.4541 Acc: 0.8775\n",
            "val Loss: 0.4520 Acc: 0.8838\n",
            "\n",
            "Training complete in 0m 6s\n",
            "Best val Acc: 0.883846\n"
          ]
        }
      ]
    },
    {
      "cell_type": "markdown",
      "source": [
        "##Tensorboard"
      ],
      "metadata": {
        "id": "PSnI17MrqW8-"
      }
    },
    {
      "cell_type": "code",
      "source": [
        "from torch.utils.tensorboard import SummaryWriter"
      ],
      "metadata": {
        "id": "iqsPphGtrikV"
      },
      "execution_count": null,
      "outputs": []
    },
    {
      "cell_type": "code",
      "source": [
        "# default `log_dir` is \"runs\" - we'll be more specific here\n",
        "writer = SummaryWriter('runs')"
      ],
      "metadata": {
        "id": "AaSYphzLdQ__"
      },
      "execution_count": null,
      "outputs": []
    },
    {
      "cell_type": "code",
      "source": [
        "ex_sample = next(iter(train_dataloader))\n",
        "ex_data, ex_label = ex_sample['data'], ex_sample['target']\n",
        "writer.add_graph(model, ex_data)\n",
        "writer.close()"
      ],
      "metadata": {
        "id": "05Qevmkfr3FA"
      },
      "execution_count": null,
      "outputs": []
    },
    {
      "cell_type": "code",
      "source": [
        "!tensorboard --logdir=runs"
      ],
      "metadata": {
        "colab": {
          "base_uri": "https://localhost:8080/"
        },
        "id": "lXcZAg04rsR2",
        "outputId": "45659fdb-5957-4cb6-9e40-496f935d0fec"
      },
      "execution_count": null,
      "outputs": [
        {
          "output_type": "stream",
          "name": "stdout",
          "text": [
            "2022-07-03 11:12:03.064153: E tensorflow/stream_executor/cuda/cuda_driver.cc:271] failed call to cuInit: CUDA_ERROR_NO_DEVICE: no CUDA-capable device is detected\n",
            "\n",
            "NOTE: Using experimental fast data loading logic. To disable, pass\n",
            "    \"--load_fast=false\" and report issues on GitHub. More details:\n",
            "    https://github.com/tensorflow/tensorboard/issues/4784\n",
            "\n",
            "Traceback (most recent call last):\n",
            "  File \"/usr/local/bin/tensorboard\", line 8, in <module>\n",
            "    sys.exit(run_main())\n",
            "  File \"/usr/local/lib/python3.7/dist-packages/tensorboard/main.py\", line 46, in run_main\n",
            "    app.run(tensorboard.main, flags_parser=tensorboard.configure)\n",
            "  File \"/usr/local/lib/python3.7/dist-packages/absl/app.py\", line 312, in run\n",
            "    _run_main(main, args)\n",
            "  File \"/usr/local/lib/python3.7/dist-packages/absl/app.py\", line 258, in _run_main\n",
            "    sys.exit(main(argv))\n",
            "  File \"/usr/local/lib/python3.7/dist-packages/tensorboard/program.py\", line 276, in main\n",
            "    return runner(self.flags) or 0\n",
            "  File \"/usr/local/lib/python3.7/dist-packages/tensorboard/program.py\", line 292, in _run_serve_subcommand\n",
            "    server = self._make_server()\n",
            "  File \"/usr/local/lib/python3.7/dist-packages/tensorboard/program.py\", line 472, in _make_server\n",
            "    deprecated_multiplexer,\n",
            "  File \"/usr/local/lib/python3.7/dist-packages/tensorboard/backend/application.py\", line 146, in TensorBoardWSGIApp\n",
            "    experimental_middlewares,\n",
            "  File \"/usr/local/lib/python3.7/dist-packages/tensorboard/backend/application.py\", line 254, in __init__\n",
            "    \"Duplicate plugins for name %s\" % plugin.plugin_name\n",
            "ValueError: Duplicate plugins for name projector\n"
          ]
        }
      ]
    },
    {
      "cell_type": "code",
      "source": [
        ""
      ],
      "metadata": {
        "id": "4eICMicjwQg8"
      },
      "execution_count": null,
      "outputs": []
    }
  ]
}