{
  "nbformat": 4,
  "nbformat_minor": 0,
  "metadata": {
    "colab": {
      "name": "Regression Model from Scratch.ipynb",
      "provenance": [],
      "authorship_tag": "ABX9TyPgz3jiTKGco90uTwIlmUoR",
      "include_colab_link": true
    },
    "kernelspec": {
      "name": "python3",
      "display_name": "Python 3"
    },
    "language_info": {
      "name": "python"
    }
  },
  "cells": [
    {
      "cell_type": "markdown",
      "metadata": {
        "id": "view-in-github",
        "colab_type": "text"
      },
      "source": [
        "<a href=\"https://colab.research.google.com/github/NiteeshSingh/SOC-Season-Of-Codes/blob/main/Practice/LinearRegression/Regression_Model_from_Scratch.ipynb\" target=\"_parent\"><img src=\"https://colab.research.google.com/assets/colab-badge.svg\" alt=\"Open In Colab\"/></a>"
      ]
    },
    {
      "cell_type": "code",
      "execution_count": 1,
      "metadata": {
        "id": "dVWPquCs_Zlw"
      },
      "outputs": [],
      "source": [
        "import pandas as pd\n",
        "import numpy as np\n",
        "\n",
        "import seaborn as sns\n",
        "import matplotlib.pyplot as plt\n",
        "\n",
        "from warnings import filterwarnings\n",
        "filterwarnings('ignore')\n",
        "%matplotlib inline"
      ]
    },
    {
      "cell_type": "code",
      "source": [
        "df = pd.read_csv('/content/1.01. Simple linear regression.csv')\n",
        "df.head()"
      ],
      "metadata": {
        "colab": {
          "base_uri": "https://localhost:8080/",
          "height": 206
        },
        "id": "lOs-QvvZCoY_",
        "outputId": "80696c63-82dd-424f-fe1e-d1a2f1c827fc"
      },
      "execution_count": 2,
      "outputs": [
        {
          "output_type": "execute_result",
          "data": {
            "text/plain": [
              "     X    Y\n",
              "0  609  241\n",
              "1  629  222\n",
              "2  620  233\n",
              "3  564  207\n",
              "4  645  247"
            ],
            "text/html": [
              "\n",
              "  <div id=\"df-5addd3c9-b598-4f63-a757-e7b4f9bf4a4c\">\n",
              "    <div class=\"colab-df-container\">\n",
              "      <div>\n",
              "<style scoped>\n",
              "    .dataframe tbody tr th:only-of-type {\n",
              "        vertical-align: middle;\n",
              "    }\n",
              "\n",
              "    .dataframe tbody tr th {\n",
              "        vertical-align: top;\n",
              "    }\n",
              "\n",
              "    .dataframe thead th {\n",
              "        text-align: right;\n",
              "    }\n",
              "</style>\n",
              "<table border=\"1\" class=\"dataframe\">\n",
              "  <thead>\n",
              "    <tr style=\"text-align: right;\">\n",
              "      <th></th>\n",
              "      <th>X</th>\n",
              "      <th>Y</th>\n",
              "    </tr>\n",
              "  </thead>\n",
              "  <tbody>\n",
              "    <tr>\n",
              "      <th>0</th>\n",
              "      <td>609</td>\n",
              "      <td>241</td>\n",
              "    </tr>\n",
              "    <tr>\n",
              "      <th>1</th>\n",
              "      <td>629</td>\n",
              "      <td>222</td>\n",
              "    </tr>\n",
              "    <tr>\n",
              "      <th>2</th>\n",
              "      <td>620</td>\n",
              "      <td>233</td>\n",
              "    </tr>\n",
              "    <tr>\n",
              "      <th>3</th>\n",
              "      <td>564</td>\n",
              "      <td>207</td>\n",
              "    </tr>\n",
              "    <tr>\n",
              "      <th>4</th>\n",
              "      <td>645</td>\n",
              "      <td>247</td>\n",
              "    </tr>\n",
              "  </tbody>\n",
              "</table>\n",
              "</div>\n",
              "      <button class=\"colab-df-convert\" onclick=\"convertToInteractive('df-5addd3c9-b598-4f63-a757-e7b4f9bf4a4c')\"\n",
              "              title=\"Convert this dataframe to an interactive table.\"\n",
              "              style=\"display:none;\">\n",
              "        \n",
              "  <svg xmlns=\"http://www.w3.org/2000/svg\" height=\"24px\"viewBox=\"0 0 24 24\"\n",
              "       width=\"24px\">\n",
              "    <path d=\"M0 0h24v24H0V0z\" fill=\"none\"/>\n",
              "    <path d=\"M18.56 5.44l.94 2.06.94-2.06 2.06-.94-2.06-.94-.94-2.06-.94 2.06-2.06.94zm-11 1L8.5 8.5l.94-2.06 2.06-.94-2.06-.94L8.5 2.5l-.94 2.06-2.06.94zm10 10l.94 2.06.94-2.06 2.06-.94-2.06-.94-.94-2.06-.94 2.06-2.06.94z\"/><path d=\"M17.41 7.96l-1.37-1.37c-.4-.4-.92-.59-1.43-.59-.52 0-1.04.2-1.43.59L10.3 9.45l-7.72 7.72c-.78.78-.78 2.05 0 2.83L4 21.41c.39.39.9.59 1.41.59.51 0 1.02-.2 1.41-.59l7.78-7.78 2.81-2.81c.8-.78.8-2.07 0-2.86zM5.41 20L4 18.59l7.72-7.72 1.47 1.35L5.41 20z\"/>\n",
              "  </svg>\n",
              "      </button>\n",
              "      \n",
              "  <style>\n",
              "    .colab-df-container {\n",
              "      display:flex;\n",
              "      flex-wrap:wrap;\n",
              "      gap: 12px;\n",
              "    }\n",
              "\n",
              "    .colab-df-convert {\n",
              "      background-color: #E8F0FE;\n",
              "      border: none;\n",
              "      border-radius: 50%;\n",
              "      cursor: pointer;\n",
              "      display: none;\n",
              "      fill: #1967D2;\n",
              "      height: 32px;\n",
              "      padding: 0 0 0 0;\n",
              "      width: 32px;\n",
              "    }\n",
              "\n",
              "    .colab-df-convert:hover {\n",
              "      background-color: #E2EBFA;\n",
              "      box-shadow: 0px 1px 2px rgba(60, 64, 67, 0.3), 0px 1px 3px 1px rgba(60, 64, 67, 0.15);\n",
              "      fill: #174EA6;\n",
              "    }\n",
              "\n",
              "    [theme=dark] .colab-df-convert {\n",
              "      background-color: #3B4455;\n",
              "      fill: #D2E3FC;\n",
              "    }\n",
              "\n",
              "    [theme=dark] .colab-df-convert:hover {\n",
              "      background-color: #434B5C;\n",
              "      box-shadow: 0px 1px 3px 1px rgba(0, 0, 0, 0.15);\n",
              "      filter: drop-shadow(0px 1px 2px rgba(0, 0, 0, 0.3));\n",
              "      fill: #FFFFFF;\n",
              "    }\n",
              "  </style>\n",
              "\n",
              "      <script>\n",
              "        const buttonEl =\n",
              "          document.querySelector('#df-5addd3c9-b598-4f63-a757-e7b4f9bf4a4c button.colab-df-convert');\n",
              "        buttonEl.style.display =\n",
              "          google.colab.kernel.accessAllowed ? 'block' : 'none';\n",
              "\n",
              "        async function convertToInteractive(key) {\n",
              "          const element = document.querySelector('#df-5addd3c9-b598-4f63-a757-e7b4f9bf4a4c');\n",
              "          const dataTable =\n",
              "            await google.colab.kernel.invokeFunction('convertToInteractive',\n",
              "                                                     [key], {});\n",
              "          if (!dataTable) return;\n",
              "\n",
              "          const docLinkHtml = 'Like what you see? Visit the ' +\n",
              "            '<a target=\"_blank\" href=https://colab.research.google.com/notebooks/data_table.ipynb>data table notebook</a>'\n",
              "            + ' to learn more about interactive tables.';\n",
              "          element.innerHTML = '';\n",
              "          dataTable['output_type'] = 'display_data';\n",
              "          await google.colab.output.renderOutput(dataTable, element);\n",
              "          const docLink = document.createElement('div');\n",
              "          docLink.innerHTML = docLinkHtml;\n",
              "          element.appendChild(docLink);\n",
              "        }\n",
              "      </script>\n",
              "    </div>\n",
              "  </div>\n",
              "  "
            ]
          },
          "metadata": {},
          "execution_count": 2
        }
      ]
    },
    {
      "cell_type": "code",
      "source": [
        "X = np.array(df.X.values.reshape(-1, 1))\n",
        "Y = np.array(df.Y.values.reshape(-1, 1))\n",
        "type(X), X.shape"
      ],
      "metadata": {
        "colab": {
          "base_uri": "https://localhost:8080/"
        },
        "id": "y0ucjBYWDQqL",
        "outputId": "3cc2c9cd-eed3-42fa-90a6-85d18815e108"
      },
      "execution_count": 3,
      "outputs": [
        {
          "output_type": "execute_result",
          "data": {
            "text/plain": [
              "(numpy.ndarray, (45, 1))"
            ]
          },
          "metadata": {},
          "execution_count": 3
        }
      ]
    },
    {
      "cell_type": "code",
      "source": [
        "X = (X-X.mean())/X.std()\n",
        "Y = (Y-Y.mean())/Y.std()\n",
        "type(X), X.shape"
      ],
      "metadata": {
        "colab": {
          "base_uri": "https://localhost:8080/"
        },
        "id": "hMHTMWPmMxk4",
        "outputId": "ee873e57-37e4-4666-e171-17b0d48452ea"
      },
      "execution_count": 4,
      "outputs": [
        {
          "output_type": "execute_result",
          "data": {
            "text/plain": [
              "(numpy.ndarray, (45, 1))"
            ]
          },
          "metadata": {},
          "execution_count": 4
        }
      ]
    },
    {
      "cell_type": "code",
      "source": [
        "x_train, x_test = X[:40, :], X[40:, :]\n",
        "y_train, y_test = Y[:40, :], Y[40:, :] \n",
        "\n",
        "x_train.shape, x_test.shape, y_train.shape, y_test.shape"
      ],
      "metadata": {
        "colab": {
          "base_uri": "https://localhost:8080/"
        },
        "id": "nF9Xpiv9Gz5I",
        "outputId": "3cd8aca2-f143-48b3-d695-b95cf2d91163"
      },
      "execution_count": 5,
      "outputs": [
        {
          "output_type": "execute_result",
          "data": {
            "text/plain": [
              "((40, 1), (5, 1), (40, 1), (5, 1))"
            ]
          },
          "metadata": {},
          "execution_count": 5
        }
      ]
    },
    {
      "cell_type": "code",
      "source": [
        "sns.scatterplot(x=x_train[:, 0], y=y_train[:, 0])\n",
        "plt.title(\"y vs x\")\n",
        "plt.xlabel(\"x\")\n",
        "plt.ylabel(\"y\");"
      ],
      "metadata": {
        "colab": {
          "base_uri": "https://localhost:8080/",
          "height": 295
        },
        "id": "ifi_QEMuNq_4",
        "outputId": "5f8c9e21-6da2-49d7-a79c-5f3ef02b9c52"
      },
      "execution_count": 6,
      "outputs": [
        {
          "output_type": "display_data",
          "data": {
            "text/plain": [
              "<Figure size 432x288 with 1 Axes>"
            ],
            "image/png": "[encoded data removed]"
          },
          "metadata": {
            "needs_background": "light"
          }
        }
      ]
    },
    {
      "cell_type": "markdown",
      "source": [
        "### Linear regression model building"
      ],
      "metadata": {
        "id": "_YbmlFXMR4Ay"
      }
    },
    {
      "cell_type": "code",
      "source": [
        "def mse_loss(y_pred, y):\n",
        "  '''Takes in true and predicted value and returns mean squared error loss'''\n",
        "  return ((np.array(y_pred)-np.array(y))**2).mean()/2"
      ],
      "metadata": {
        "id": "Zzh7dsA0Da_L"
      },
      "execution_count": 7,
      "outputs": []
    },
    {
      "cell_type": "code",
      "source": [
        "def get_gradient(X, y, Theta, bias):\n",
        "  '''Takes in -\n",
        "  X - numpy 2-d array of shape  #examples x #features conatining dataset\n",
        "  y - numpy array of shape #example x 1 containing true values for prediction\n",
        "  Theta - numpy array of shape 1 x #features contining weights of our model at current state\n",
        "  bias - bias of our model scaler number\n",
        "\n",
        "  Returns- a tuple of\n",
        "  gradient w.r.t each weights a numpy array of shape as of Theta array\n",
        "  gradient w.r.t bias a scalar\n",
        "  '''\n",
        "  n = len(y) #number of examples and m = #features\n",
        "  e = np.dot(X, Theta).reshape(-1, 1) + bias - y\n",
        "  grad_theta = (X.T @ e) / n #shape m x 1    \n",
        "  grad_bias = sum(e) / n\n",
        "  \n",
        "  return (grad_theta.T, grad_bias)"
      ],
      "metadata": {
        "id": "z0mScPFVF03Q"
      },
      "execution_count": 8,
      "outputs": []
    },
    {
      "cell_type": "code",
      "source": [
        "def initialise(dim):\n",
        "  '''Takes in dimension of Theta vector\n",
        "\n",
        "  Returns a tuple of\n",
        "  randomly initialise array of shape 1 x dim\n",
        "  random bias scaler\n",
        "  '''\n",
        "\n",
        "  return (np.random.rand(1, dim), np.random.rand(1,1))"
      ],
      "metadata": {
        "id": "e4dAHGSaaCRe"
      },
      "execution_count": 9,
      "outputs": []
    },
    {
      "cell_type": "code",
      "source": [
        "def grdient_descent(X, y, lr=0.01, iterations=100, loss_iter = 1):\n",
        "  '''Takes in -\n",
        "  X - np array of shape #example x features\n",
        "  y - np array of shape #example x 1\n",
        "  lr - Learning Rate\n",
        "  iterations - Number of Iteration to perform\n",
        "  loss_iter - after this much iteration loss will be calculated for e.g.- \n",
        "    0-loss will not be calculated\n",
        "    1-loss calculated every iteration\n",
        "    2-loss calculated every secon iteration i.e 0, 2, ...\n",
        "    and so on\n",
        "\n",
        "  returns - tuple of\n",
        "  Optimum Theta\n",
        "  Optimum bias\n",
        "  dictionary of key=iteration number and val=loss at that iteration\n",
        "  '''\n",
        "  Theta, bias = initialise(X.shape[1])\n",
        "  loss = {}\n",
        "\n",
        "  for iter in range(iterations):\n",
        "    if loss_iter!=0 and iter%loss_iter==0:\n",
        "      h = np.dot(X, Theta).reshape(-1, 1) + bias\n",
        "      loss[iter] = mse_loss(h, y)\n",
        "\n",
        "    grad_theta, grad_bias = get_gradient(X, y, Theta, bias)\n",
        "    Theta = Theta - lr*grad_theta\n",
        "    bias = bias - lr*grad_bias\n",
        "  \n",
        "  return (Theta, bias, loss)"
      ],
      "metadata": {
        "id": "6gb75OicerPU"
      },
      "execution_count": 10,
      "outputs": []
    },
    {
      "cell_type": "code",
      "source": [
        "def predict(X, Theta, bias):\n",
        "  '''Takes in \n",
        "  X - np array of shape #example x #features  (n x m)\n",
        "  Theta - np array of shape 1 x #features (1 x m) continig optimal theta values\n",
        "  bias - scaler bias term of model\n",
        "\n",
        "  returns \n",
        "  predicted value of model an array of shape n x 1\n",
        "  '''\n",
        "  return np.dot(X, Theta).reshape(-1, 1) + bias"
      ],
      "metadata": {
        "id": "A9FU1UOBSwz7"
      },
      "execution_count": 11,
      "outputs": []
    },
    {
      "cell_type": "markdown",
      "source": [
        "### traning and result of model"
      ],
      "metadata": {
        "id": "IdU1JydtSRiy"
      }
    },
    {
      "cell_type": "code",
      "source": [
        "w, b , loss= grdient_descent(x_train, y_train, lr=0.01, iterations=500)\n",
        "print(\"training done\")\n",
        "print(f\"trained weights {w}\")\n",
        "print(f\"trained biase {b}\")"
      ],
      "metadata": {
        "colab": {
          "base_uri": "https://localhost:8080/"
        },
        "id": "n_chB55spS3q",
        "outputId": "468964ed-d710-4d65-a071-7a37c99f8ee9"
      },
      "execution_count": 12,
      "outputs": [
        {
          "output_type": "stream",
          "name": "stdout",
          "text": [
            "training done\n",
            "trained weights [[0.86741735]]\n",
            "trained biase [[-0.014196]]\n"
          ]
        }
      ]
    },
    {
      "cell_type": "code",
      "source": [
        "sns.lineplot(x=loss.keys(), y=loss.values());\n",
        "plt.title(\"Loss vs #Iterations\")\n",
        "plt.xlabel(\"Iteration\")\n",
        "plt.ylabel(\"Loss value\")"
      ],
      "metadata": {
        "colab": {
          "base_uri": "https://localhost:8080/",
          "height": 312
        },
        "id": "R42XZhz9p2Nz",
        "outputId": "9cec61a8-4ea0-44a6-9bbe-513ee04b5f9b"
      },
      "execution_count": 13,
      "outputs": [
        {
          "output_type": "execute_result",
          "data": {
            "text/plain": [
              "Text(0, 0.5, 'Loss value')"
            ]
          },
          "metadata": {},
          "execution_count": 13
        },
        {
          "output_type": "display_data",
          "data": {
            "text/plain": [
              "<Figure size 432x288 with 1 Axes>"
            ],
            "image/png": "[encoded data removed]"
          },
          "metadata": {
            "needs_background": "light"
          }
        }
      ]
    },
    {
      "cell_type": "code",
      "source": [
        "y_pred = predict(x_train, w, b)\n",
        "y_pred[:5, :]"
      ],
      "metadata": {
        "colab": {
          "base_uri": "https://localhost:8080/"
        },
        "id": "55bsiRbKSlVT",
        "outputId": "227db761-bd8a-4f81-9dcc-509c483e93f5"
      },
      "execution_count": 14,
      "outputs": [
        {
          "output_type": "execute_result",
          "data": {
            "text/plain": [
              "array([[-0.75667963],\n",
              "       [-0.56727054],\n",
              "       [-0.65250463],\n",
              "       [-1.18285008],\n",
              "       [-0.41574327]])"
            ]
          },
          "metadata": {},
          "execution_count": 14
        }
      ]
    },
    {
      "cell_type": "code",
      "source": [
        "sns.scatterplot(x=x_train[:, 0], y=y_train[:, 0], label=\"true Value\")\n",
        "sns.lineplot(x=x_train[:, 0], y=y_pred[:, 0], label=\"Predicted Value\", color='red')\n",
        "plt.title(\"y vs x\")\n",
        "plt.xlabel(\"x\")\n",
        "plt.ylabel(\"y\")"
      ],
      "metadata": {
        "colab": {
          "base_uri": "https://localhost:8080/",
          "height": 312
        },
        "id": "rkuX6rBATv0g",
        "outputId": "eec3b645-52d2-42af-90ac-c366ee462b7d"
      },
      "execution_count": 17,
      "outputs": [
        {
          "output_type": "execute_result",
          "data": {
            "text/plain": [
              "Text(0, 0.5, 'y')"
            ]
          },
          "metadata": {},
          "execution_count": 17
        },
        {
          "output_type": "display_data",
          "data": {
            "text/plain": [
              "<Figure size 432x288 with 1 Axes>"
            ],
            "image/png": "[encoded data removed]"
          },
          "metadata": {
            "needs_background": "light"
          }
        }
      ]
    }
  ]
}